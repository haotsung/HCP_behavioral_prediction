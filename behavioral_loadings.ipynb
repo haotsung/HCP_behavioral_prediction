{
 "cells": [
  {
   "cell_type": "code",
   "execution_count": 62,
   "metadata": {},
   "outputs": [
    {
     "name": "stderr",
     "output_type": "stream",
     "text": [
      "2024-11-22 15:17:12,919 [    INFO] ===== Lib Versions =====\n",
      "2024-11-22 15:17:12,920 [    INFO] numpy: 1.26.4\n",
      "2024-11-22 15:17:12,921 [    INFO] scipy: 1.14.0\n",
      "2024-11-22 15:17:12,921 [    INFO] sklearn: 1.4.2\n",
      "2024-11-22 15:17:12,921 [    INFO] pandas: 2.1.4\n",
      "2024-11-22 15:17:12,922 [    INFO] julearn: 0.3.4.dev10\n",
      "2024-11-22 15:17:12,922 [    INFO] ========================\n",
      "2024-11-22 15:17:12,923 [    INFO] Setting global config disable_x_check to True\n",
      "2024-11-22 15:17:12,923 [    INFO] Setting global config disable_xtypes_check to True\n"
     ]
    },
    {
     "name": "stdout",
     "output_type": "stream",
     "text": [
      "2024-11-22 15:17:12,919 - julearn - INFO - ===== Lib Versions =====\n",
      "2024-11-22 15:17:12,920 - julearn - INFO - numpy: 1.26.4\n",
      "2024-11-22 15:17:12,921 - julearn - INFO - scipy: 1.14.0\n",
      "2024-11-22 15:17:12,921 - julearn - INFO - sklearn: 1.4.2\n",
      "2024-11-22 15:17:12,921 - julearn - INFO - pandas: 2.1.4\n",
      "2024-11-22 15:17:12,922 - julearn - INFO - julearn: 0.3.4.dev10\n",
      "2024-11-22 15:17:12,922 - julearn - INFO - ========================\n",
      "2024-11-22 15:17:12,923 - julearn - INFO - Setting global config disable_x_check to True\n",
      "2024-11-22 15:17:12,923 - julearn - INFO - Setting global config disable_xtypes_check to True\n"
     ]
    }
   ],
   "source": [
    "# %%\n",
    "from argparse import ArgumentParser\n",
    "from pprint import pprint\n",
    "\n",
    "import junifer\n",
    "import numpy as np\n",
    "import pandas as pd\n",
    "from factor_analyzer import Rotator\n",
    "from julearn import run_cross_validation\n",
    "from julearn.config import set_config\n",
    "from julearn.pipeline import PipelineCreator\n",
    "from julearn.utils import configure_logging\n",
    "from junifer.storage import HDF5FeatureStorage\n",
    "from sklearn.kernel_ridge import KernelRidge\n",
    "from sklearn.model_selection import RepeatedKFold\n",
    "from sklearn.preprocessing import StandardScaler\n",
    "#from statsmodels.multivariate.pca import PCA\n",
    "from sklearn.decomposition import SparsePCA\n",
    "from sklearn.decomposition import PCA\n",
    "\n",
    "from sklearn.experimental import enable_iterative_imputer\n",
    "from sklearn.impute import IterativeImputer\n",
    "\n",
    "configure_logging(level=\"INFO\")\n",
    "\n",
    "set_config(\"disable_x_check\", True)\n",
    "set_config(\"disable_xtypes_check\", True)\n"
   ]
  },
  {
   "cell_type": "code",
   "execution_count": 63,
   "metadata": {},
   "outputs": [],
   "source": [
    "\n",
    "# %%\n",
    "# 80 specific subjects same as the paper\n",
    "train_subs = (\n",
    "    pd.read_csv(\"MMP_HCP_80_subs_componentscoreestimation.txt\", header=None)\n",
    "    .values.flatten()\n",
    "    .astype(str)\n",
    ")  # 80 subjects\n",
    "\n",
    "# 753 specific subject for main analysis same as the paper\n",
    "test_subs = (\n",
    "    pd.read_csv(\"MMP_HCP_753_subs.txt\", header=None).values.flatten().astype(str)\n",
    ")  # 753 subjects\n",
    "\n",
    "row_names =  ['Visual Episodic Memory','Cognitive Flexibility','Inhibition','Fluid Intelligence','Reading','Vocabulary','Processing Speed','Spatial Orientation','Sustained Attention_Sens','Sustained Attention_Spec','Verbal Episodic Memory','Working Memory (List soting)','Cognitive Status',\n",
    "                 'Sleep Quality','Walking Endurance','Manual Dexterity','Grip Strength','Odor Identification','Pain Interference Survey','Taste Intensity','Contrast Sensitivity','Emotional Face Matching','Arithmetic',\n",
    "                 'Story Comprehension','Relational Processing','Social Cognition_Random','Social Cognition_Interaction','Working Memory (N-back)','Agreeableness','Openness','Conscientiousness','Neuroticism','Extraversion','Emot. Recog. _ Total','Emot. Recog. _ Angry','Emot. Recog. _Fear',\n",
    "                 'Emot. Recog. _ Happy','Emot. Recog. _ Neutral','Emot. Recog. _ Sad','Anger _ Affect','Anger _ Hostility','Anger _ Aggression','Fear _ Affect','Fear _ Somatic Arousal','Sadness','Life Satisfaction','Meaning & Purpose','Positive Affect','Friendship',\n",
    "                 'Loneliness','Perceived Hostility','Perceived Rejection','Emotional Support','Instrument Support','Perceived Stress','Self-Efficacy','Delay Discounting','Walking Speed']\n",
    "\n",
    "columns = [\n",
    "    \"PicSeq_Unadj\",\n",
    "    \"CardSort_Unadj\",\n",
    "    \"Flanker_Unadj\",\n",
    "    \"PMAT24_A_CR\",\n",
    "    \"ReadEng_Unadj\",\n",
    "    \"PicVocab_Unadj\",\n",
    "    \"ProcSpeed_Unadj\",\n",
    "    \"VSPLOT_TC\",\n",
    "    \"SCPT_SEN\",\n",
    "    \"SCPT_SPEC\",\n",
    "    \"IWRD_TOT\",\n",
    "    \"ListSort_Unadj\",\n",
    "    \"MMSE_Score\",\n",
    "    \"PSQI_Score\",\n",
    "    \"Endurance_Unadj\",\n",
    "    \"Dexterity_Unadj\",\n",
    "    \"Strength_Unadj\",\n",
    "    \"Odor_Unadj\",\n",
    "    \"PainInterf_Tscore\",\n",
    "    \"Taste_Unadj\",\n",
    "    \"Mars_Final\",\n",
    "    \"Emotion_Task_Face_Acc\",\n",
    "    \"Language_Task_Math_Avg_Difficulty_Level\",\n",
    "    \"Language_Task_Story_Avg_Difficulty_Level\",\n",
    "    \"Relational_Task_Acc\",\n",
    "    \"Social_Task_Perc_Random\",\n",
    "    \"Social_Task_Perc_TOM\",\n",
    "    \"WM_Task_Acc\",\n",
    "    \"NEOFAC_A\",\n",
    "    \"NEOFAC_O\",\n",
    "    \"NEOFAC_C\",\n",
    "    \"NEOFAC_N\",\n",
    "    \"NEOFAC_E\",\n",
    "    \"ER40_CR\",\n",
    "    \"ER40ANG\",\n",
    "    \"ER40FEAR\",\n",
    "    \"ER40HAP\",\n",
    "    \"ER40NOE\",\n",
    "    \"ER40SAD\",\n",
    "    \"AngAffect_Unadj\",\n",
    "    \"AngHostil_Unadj\",\n",
    "    \"AngAggr_Unadj\",\n",
    "    \"FearAffect_Unadj\",\n",
    "    \"FearSomat_Unadj\",\n",
    "    \"Sadness_Unadj\",\n",
    "    \"LifeSatisf_Unadj\",\n",
    "    \"MeanPurp_Unadj\",\n",
    "    \"PosAffect_Unadj\",\n",
    "    \"Friendship_Unadj\",\n",
    "    \"Loneliness_Unadj\",\n",
    "    \"PercHostil_Unadj\",\n",
    "    \"PercReject_Unadj\",\n",
    "    \"EmotSupp_Unadj\",\n",
    "    \"InstruSupp_Unadj\",\n",
    "    \"PercStress_Unadj\",\n",
    "    \"SelfEff_Unadj\",\n",
    "    \"DDisc_AUC_40K\",\n",
    "    \"GaitSpeed_Comp\",\n",
    "]\n",
    "# Load the dataset\n",
    "full_df = pd.read_csv(\"Behavioral_Data\", index_col=\"Subject\")[columns]\n",
    "full_df.index = full_df.index.astype(str)\n",
    "test_df = full_df.loc[test_subs]\n",
    "train_df = full_df.loc[train_subs]\n"
   ]
  },
  {
   "cell_type": "markdown",
   "metadata": {},
   "source": [
    "Sparse PCA"
   ]
  },
  {
   "cell_type": "code",
   "execution_count": 64,
   "metadata": {},
   "outputs": [],
   "source": [
    "imputer = IterativeImputer(max_iter=20, random_state=0)\n",
    "df_imputed = imputer.fit_transform(train_df)\n",
    "\n",
    "scaler = StandardScaler()\n",
    "df_trans = scaler.fit_transform(df_imputed)\n",
    "\n",
    "sparsepca = SparsePCA(n_components=3,random_state=42)\n",
    "df_sparsepca = sparsepca.fit_transform(df_trans)\n",
    "loadings = sparsepca.components_\n",
    "loadings = pd.DataFrame(loadings.T,index=row_names)\n",
    "\n",
    "rotator = Rotator(method=\"varimax\")\n",
    "rotated_loadings = rotator.fit_transform(loadings)\n",
    "rotated_loadings = pd.DataFrame(rotated_loadings,index=row_names)\n",
    "# df_test_imputed = imputer.transform(test_df)\n",
    "# scaled = scaler.transform(df_test_imputed)\n",
    "# factors = np.dot(scaled, rotated_loadings)\n",
    "# factors_df = pd.DataFrame(\n",
    "#     factors,\n",
    "#     index=test_df.index,\n",
    "#     columns=[\"varimax_satisf\", \"varimax_cog\", \"varimax_er\"],\n",
    "# )\n"
   ]
  },
  {
   "cell_type": "code",
   "execution_count": 65,
   "metadata": {},
   "outputs": [
    {
     "data": {
      "text/plain": [
       "array([0.2770825 , 0.27256887, 0.26423205, 0.26184052, 0.25101439,\n",
       "       0.25024177, 0.24386695, 0.2335127 , 0.23209407, 0.22704052])"
      ]
     },
     "execution_count": 65,
     "metadata": {},
     "output_type": "execute_result"
    }
   ],
   "source": [
    "rotated_loadings[0].abs().nlargest(10).values"
   ]
  },
  {
   "cell_type": "code",
   "execution_count": 66,
   "metadata": {},
   "outputs": [
    {
     "name": "stdout",
     "output_type": "stream",
     "text": [
      "           Sparse_PCA0                             Sparse_PCA1                             Sparse_PCA2          \n",
      "                  Name     Value                          Name     Value                          Name     Value\n",
      "0     Perceived Stress  0.277083                       Reading  0.335301          Emot. Recog. _ Total  0.559273\n",
      "1              Sadness  0.272569                    Vocabulary  0.315226        Emot. Recog. _ Neutral  0.474060\n",
      "2           Loneliness  0.264232            Fluid Intelligence  0.310060  Social Cognition_Interaction  0.409980\n",
      "3          Neuroticism  0.261841           Story Comprehension  0.274991       Social Cognition_Random  0.350499\n",
      "4  Perceived Rejection  0.251014         Relational Processing  0.271783            Emot. Recog. _ Sad  0.172221\n",
      "5       Anger _ Affect  0.250242           Spatial Orientation  0.264973          Emot. Recog. _ Happy  0.170049\n",
      "6        Fear _ Affect  0.243867       Working Memory (N-back)  0.249605            Emot. Recog. _Fear  0.146460\n",
      "7      Positive Affect  0.233513             Delay Discounting  0.231766          Emot. Recog. _ Angry  0.136451\n",
      "8    Life Satisfaction  0.232094        Visual Episodic Memory  0.231431        Verbal Episodic Memory  0.135593\n",
      "9    Meaning & Purpose  0.227041  Working Memory (List soting)  0.228808                Anger _ Affect  0.093171\n"
     ]
    }
   ],
   "source": [
    "data = {\n",
    "    ('Sparse_PCA0','Name'): rotated_loadings[0].abs().nlargest(10).index.to_list(),\n",
    "    ('Sparse_PCA0','Value'): rotated_loadings[0].abs().nlargest(10).values,\n",
    "\n",
    "    ('Sparse_PCA1','Name'): rotated_loadings[1].abs().nlargest(10).index.to_list(),\n",
    "    ('Sparse_PCA1','Value'): rotated_loadings[1].abs().nlargest(10).values,\n",
    "\n",
    "    ('Sparse_PCA2','Name'): rotated_loadings[2].abs().nlargest(10).index.to_list(),\n",
    "    ('Sparse_PCA2','Value'): rotated_loadings[2].abs().nlargest(10).values,\n",
    "\n",
    "}\n",
    "pd.set_option('display.width', 1000)\n",
    "df = pd.DataFrame(data)\n",
    "print(df)\n",
    "    "
   ]
  },
  {
   "cell_type": "markdown",
   "metadata": {},
   "source": [
    "PCA"
   ]
  },
  {
   "cell_type": "code",
   "execution_count": 67,
   "metadata": {},
   "outputs": [],
   "source": [
    "\n",
    "imputer = IterativeImputer(max_iter=20, random_state=0)\n",
    "df_imputed = imputer.fit_transform(train_df)\n",
    "\n",
    "scaler = StandardScaler()\n",
    "df_trans = scaler.fit_transform(df_imputed)\n",
    "\n",
    "pca = PCA(n_components=3,random_state=42)\n",
    "df_pca = pca.fit_transform(df_trans)\n",
    "loadings = pca.components_\n",
    "loadings = pd.DataFrame(loadings.T,index=row_names)\n",
    "\n",
    "rotator = Rotator(method=\"varimax\")\n",
    "rotated_loadings = rotator.fit_transform(loadings)\n",
    "rotated_loadings = pd.DataFrame(rotated_loadings,index=row_names)"
   ]
  },
  {
   "cell_type": "code",
   "execution_count": 68,
   "metadata": {},
   "outputs": [
    {
     "name": "stdout",
     "output_type": "stream",
     "text": [
      "                  PCA0                                    PCA1                                    PCA2          \n",
      "                  Name     Value                          Name     Value                          Name     Value\n",
      "0              Sadness  0.255977                       Reading  0.302398        Emot. Recog. _ Neutral  0.350870\n",
      "1     Perceived Stress  0.255488                    Vocabulary  0.289734          Emot. Recog. _ Total  0.349149\n",
      "2           Loneliness  0.245144            Fluid Intelligence  0.261402       Social Cognition_Random  0.302970\n",
      "3          Neuroticism  0.239447           Spatial Orientation  0.249257  Social Cognition_Interaction  0.299935\n",
      "4      Positive Affect  0.233404        Visual Episodic Memory  0.237045           Odor Identification  0.227335\n",
      "5    Meaning & Purpose  0.233218         Relational Processing  0.237016            Emot. Recog. _ Sad  0.219767\n",
      "6  Perceived Rejection  0.232838           Story Comprehension  0.231846                Anger _ Affect  0.204343\n",
      "7    Life Satisfaction  0.229709       Working Memory (N-back)  0.220725                 Fear _ Affect  0.199107\n",
      "8       Anger _ Affect  0.225087  Working Memory (List soting)  0.216566              Processing Speed  0.181882\n",
      "9        Fear _ Affect  0.223447             Delay Discounting  0.210323      Sustained Attention_Spec  0.162969\n"
     ]
    }
   ],
   "source": [
    "data = {\n",
    "    ('PCA0','Name'): rotated_loadings[0].abs().nlargest(10).index.to_list(),\n",
    "    ('PCA0','Value'): rotated_loadings[0].abs().nlargest(10).values,\n",
    "\n",
    "    ('PCA1','Name'): rotated_loadings[1].abs().nlargest(10).index.to_list(),\n",
    "    ('PCA1','Value'): rotated_loadings[1].abs().nlargest(10).values,\n",
    "\n",
    "    ('PCA2','Name'): rotated_loadings[2].abs().nlargest(10).index.to_list(),\n",
    "    ('PCA2','Value'): rotated_loadings[2].abs().nlargest(10).values,\n",
    "\n",
    "}\n",
    "pd.set_option('display.width', 1000)\n",
    "df = pd.DataFrame(data)\n",
    "print(df)"
   ]
  }
 ],
 "metadata": {
  "kernelspec": {
   "display_name": "julearn_hcp",
   "language": "python",
   "name": "python3"
  },
  "language_info": {
   "codemirror_mode": {
    "name": "ipython",
    "version": 3
   },
   "file_extension": ".py",
   "mimetype": "text/x-python",
   "name": "python",
   "nbconvert_exporter": "python",
   "pygments_lexer": "ipython3",
   "version": "3.11.4"
  }
 },
 "nbformat": 4,
 "nbformat_minor": 2
}
