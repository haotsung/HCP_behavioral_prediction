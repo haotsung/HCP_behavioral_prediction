{
 "cells": [
  {
   "cell_type": "code",
   "execution_count": 96,
   "metadata": {},
   "outputs": [],
   "source": [
    "import pandas as pd\n",
    "from junifer.storage import HDF5FeatureStorage\n",
    "from statsmodels.imputation.mice import MICEData"
   ]
  },
  {
   "cell_type": "code",
   "execution_count": 97,
   "metadata": {},
   "outputs": [],
   "source": [
    "# Read the CSV file\n",
    "df_behavioral = pd.read_csv('Behavioral_Data')\n",
    "\n",
    "# Select Behavioral measures for HCP\n",
    "HCP_behavioal_measures_columns = ['Subject','PicSeq_Unadj','CardSort_Unadj','Flanker_Unadj','PMAT24_A_CR','ReadEng_Unadj','PicVocab_Unadj','ProcSpeed_Unadj','VSPLOT_TC','SCPT_SEN','SCPT_SPEC','IWRD_TOT','ListSort_Unadj','MMSE_Score',\n",
    "                     'PSQI_Score','Endurance_Unadj','Dexterity_Unadj','Strength_Unadj','Odor_Unadj','PainInterf_Tscore','Taste_Unadj','Mars_Final','Emotion_Task_Face_Acc','Language_Task_Math_Avg_Difficulty_Level',\n",
    "                     'Language_Task_Story_Avg_Difficulty_Level','Relational_Task_Acc','Social_Task_Perc_Random','Social_Task_Perc_TOM','WM_Task_Acc','NEOFAC_A','NEOFAC_O','NEOFAC_C','NEOFAC_N','NEOFAC_E','ER40_CR','ER40ANG','ER40FEAR',\n",
    "                     'ER40HAP','ER40NOE','ER40SAD','AngAffect_Unadj','AngHostil_Unadj','AngAggr_Unadj','FearAffect_Unadj','FearSomat_Unadj','Sadness_Unadj','LifeSatisf_Unadj','MeanPurp_Unadj','PosAffect_Unadj','Friendship_Unadj',\n",
    "                     'Loneliness_Unadj','PercHostil_Unadj','PercReject_Unadj','EmotSupp_Unadj','InstruSupp_Unadj','PercStress_Unadj','SelfEff_Unadj','DDisc_AUC_40K','GaitSpeed_Comp']\n",
    "HCP_behavioal_measures = df_behavioral[HCP_behavioal_measures_columns]\n",
    "\n",
    "# Use MICE (Multiple Imputation by Chained Equations) for imputation\n",
    "mice_data = MICEData(HCP_behavioal_measures)\n",
    "# Perform the imputation process iteratively\n",
    "mice_data.update_all()\n",
    "# Get the imputed DataFrame\n",
    "imputed_HCP_behavioal_measures = mice_data.data\n",
    "\n",
    "# Convert 'Subject' column to int in imputed_HCP_behavioal_measures\n",
    "imputed_HCP_behavioal_measures['Subject'] = imputed_HCP_behavioal_measures['Subject'].astype(int)"
   ]
  },
  {
   "cell_type": "code",
   "execution_count": 98,
   "metadata": {},
   "outputs": [],
   "source": [
    "storage = HDF5FeatureStorage(\"features.hdf5\")\n",
    "df_features = storage.read_df('BOLD_Schaefer400x17_functional_connectivity')\n",
    "df_features_reset = df_features.reset_index() # Reset the index to convert MultiIndex to columns\n",
    "\n",
    "# Ignore ROI1==ROI2\n",
    "columns_with_tilde = [col for col in df_features_reset.columns if '~' in col]\n",
    "columns_to_keep = ['phase_encoding'] + ['subject'] + [col for col in columns_with_tilde if col.split('~')[0] != col.split('~')[1]]\n",
    "df_filtered_features = df_features_reset[columns_to_keep]\n",
    "\n",
    "# Select only numeric columns for the mean calculation\n",
    "numeric_columns = df_filtered_features.select_dtypes(include='number').columns\n",
    "\n",
    "# Group by 'subject' and calculate the mean for numeric columns across REST1/LR, REST1/RL, REST2/LR, REST2/RL \n",
    "averaged_features = df_filtered_features.groupby('subject', as_index=False)[numeric_columns].mean()\n",
    "\n",
    "# Convert 'subject' column to int in averaged_features\n",
    "averaged_features['subject'] = averaged_features['subject'].astype(int)"
   ]
  },
  {
   "cell_type": "code",
   "execution_count": 105,
   "metadata": {},
   "outputs": [],
   "source": [
    "# Merge feature and behavioral measures together \n",
    "merged_df = pd.merge(averaged_features, imputed_HCP_behavioal_measures, left_on='subject', right_on='Subject')\n",
    "# Drop 'Subject' column\n",
    "final_df = merged_df.drop('Subject',axis=1)\n",
    "\n",
    "\n",
    "# Ouput the merged dataframe\n",
    "final_df.to_csv('HCP_data.csv', index=False)"
   ]
  }
 ],
 "metadata": {
  "kernelspec": {
   "display_name": "julearn",
   "language": "python",
   "name": "python3"
  },
  "language_info": {
   "codemirror_mode": {
    "name": "ipython",
    "version": 3
   },
   "file_extension": ".py",
   "mimetype": "text/x-python",
   "name": "python",
   "nbconvert_exporter": "python",
   "pygments_lexer": "ipython3",
   "version": "3.9.19"
  }
 },
 "nbformat": 4,
 "nbformat_minor": 2
}
